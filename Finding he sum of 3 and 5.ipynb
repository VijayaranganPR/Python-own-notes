{
 "cells": [
  {
   "cell_type": "code",
   "execution_count": 1,
   "metadata": {},
   "outputs": [],
   "source": [
    "# to find the nth element of the arithmetic series\n",
    "# x = a + (n-1)*d\n",
    "# to find the last multiple number of a range \n",
    "# x = x - x%3\n",
    "# to find teh sum of the arithmetic series\n",
    "# x = n(n+1)//2\n",
    "# we can also use x = n/2*(2*a +(n-1)*d)\n",
    "# Now the variables are n, a, and d\n",
    "# n is the nth element\n",
    "# a is the first element\n",
    "# d is the commen difference"
   ]
  },
  {
   "cell_type": "code",
   "execution_count": 2,
   "metadata": {},
   "outputs": [
    {
     "name": "stdout",
     "output_type": "stream",
     "text": [
      "2\n",
      "10\n",
      "23\n",
      "100\n",
      "2318\n"
     ]
    }
   ],
   "source": [
    "def ap(x):\n",
    "    result = x*(x+1)//2\n",
    "    return result\n",
    "\n",
    "n=int(input())\n",
    "while n!=0:\n",
    "    nu=int(input())\n",
    "    nu-=1\n",
    "    a=nu//3\n",
    "    b=nu//5\n",
    "    c=nu//15\n",
    "    print(3*ap(a)+5*ap(b)-15*ap(c))\n",
    "    n-=1"
   ]
  }
 ],
 "metadata": {
  "kernelspec": {
   "display_name": "Python 3",
   "language": "python",
   "name": "python3"
  },
  "language_info": {
   "codemirror_mode": {
    "name": "ipython",
    "version": 3
   },
   "file_extension": ".py",
   "mimetype": "text/x-python",
   "name": "python",
   "nbconvert_exporter": "python",
   "pygments_lexer": "ipython3",
   "version": "3.8.5"
  }
 },
 "nbformat": 4,
 "nbformat_minor": 4
}
