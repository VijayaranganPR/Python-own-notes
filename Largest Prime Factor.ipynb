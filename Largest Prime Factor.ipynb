{
 "cells": [
  {
   "cell_type": "code",
   "execution_count": 16,
   "metadata": {},
   "outputs": [
    {
     "name": "stdout",
     "output_type": "stream",
     "text": [
      "100\n"
     ]
    }
   ],
   "source": [
    "n = int(input())\n",
    "s = set()"
   ]
  },
  {
   "cell_type": "code",
   "execution_count": 21,
   "metadata": {},
   "outputs": [],
   "source": [
    "def func(n):\n",
    "    while n%2 ==0:\n",
    "        s.add(2)\n",
    "        n = n//2\n",
    "    \n",
    "    for i in range(3,round(n**0.5)+1,2):\n",
    "        while n%i == 0:\n",
    "            s.add(i)\n",
    "            n = n//i\n",
    "    if n>2:\n",
    "        s.add(n)\n",
    "    "
   ]
  },
  {
   "cell_type": "code",
   "execution_count": 23,
   "metadata": {},
   "outputs": [
    {
     "name": "stdout",
     "output_type": "stream",
     "text": [
      "5\n"
     ]
    }
   ],
   "source": [
    "func(n)\n",
    "print(max(s))"
   ]
  },
  {
   "cell_type": "code",
   "execution_count": 26,
   "metadata": {},
   "outputs": [
    {
     "name": "stdout",
     "output_type": "stream",
     "text": [
      "2\n",
      "10\n",
      "5\n",
      "100\n",
      "5\n"
     ]
    }
   ],
   "source": [
    "t = int(input())\n",
    "for i in range(t):\n",
    "    n = int(input())\n",
    "    s = set()\n",
    "\n",
    "    def func(n):\n",
    "        while n%2 ==0:\n",
    "            s.add(2)\n",
    "            n = n//2\n",
    "\n",
    "        for i in range(3,round(n**0.5)+1,2):\n",
    "            while n%i == 0:\n",
    "                s.add(i)\n",
    "                n = n//i\n",
    "        if n>2:\n",
    "            s.add(n)\n",
    "\n",
    "\n",
    "\n",
    "    func(n)\n",
    "    print(max(s))"
   ]
  },
  {
   "cell_type": "code",
   "execution_count": null,
   "metadata": {},
   "outputs": [],
   "source": []
  }
 ],
 "metadata": {
  "kernelspec": {
   "display_name": "Python 3",
   "language": "python",
   "name": "python3"
  },
  "language_info": {
   "codemirror_mode": {
    "name": "ipython",
    "version": 3
   },
   "file_extension": ".py",
   "mimetype": "text/x-python",
   "name": "python",
   "nbconvert_exporter": "python",
   "pygments_lexer": "ipython3",
   "version": "3.8.5"
  }
 },
 "nbformat": 4,
 "nbformat_minor": 4
}
