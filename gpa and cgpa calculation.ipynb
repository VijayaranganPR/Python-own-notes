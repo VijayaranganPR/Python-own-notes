{
 "cells": [
  {
   "cell_type": "markdown",
   "metadata": {},
   "source": [
    "# To find gpa"
   ]
  },
  {
   "cell_type": "code",
   "execution_count": 1,
   "metadata": {
    "scrolled": false
   },
   "outputs": [
    {
     "name": "stdout",
     "output_type": "stream",
     "text": [
      "3\n",
      "10 10\n",
      "9 3\n",
      "7 3\n",
      "148 16\n",
      "your gpa is 9.25\n"
     ]
    }
   ],
   "source": [
    "number_of_subjects = int(input())\n",
    "sub_x_credit = 0\n",
    "sum_credit = 0\n",
    "for i in  range(number_of_subjects):\n",
    "    sub, credit = map(int,input().split())\n",
    "    sub_x_credit += sub*credit\n",
    "    sum_credit += credit\n",
    "\n",
    "gpa = sub_x_credit/sum_credit\n",
    "print(sub_x_credit,sum_credit)\n",
    "print(f\"your gpa is {round(gpa,3)}\")"
   ]
  },
  {
   "cell_type": "markdown",
   "metadata": {},
   "source": [
    "# To find cgpa"
   ]
  },
  {
   "cell_type": "code",
   "execution_count": 6,
   "metadata": {
    "scrolled": true
   },
   "outputs": [
    {
     "name": "stdout",
     "output_type": "stream",
     "text": [
      "Your cgpa is 8.294444444444444\n"
     ]
    }
   ],
   "source": [
    "# me\n",
    "sum_multiplied_credits = sum([179 ,175 ,173 ,200 ,202 ,214 ,202 ,148])\n",
    "sum_credits_earned = sum([25, 25, 23, 24, 22, 23, 22, 16])\n",
    "\n",
    "# for other uncommend below\n",
    "# no_of_sem = int(input())\n",
    "# sum_multiplied_credits = 0\n",
    "# sum_credits_earned = 0\n",
    "# for i in range(no_of_sem):\n",
    "#     multiplied_credits, credits_earned = map(int,input().split())\n",
    "#     sum_multiplied_credits += multiplied_credits\n",
    "#     sum_credits_earned += credits_earned\n",
    "    \n",
    "cgpa = sum_multiplied_credits/sum_credits_earned\n",
    "print(f\"Your cgpa is {cgpa}\")"
   ]
  },
  {
   "cell_type": "code",
   "execution_count": 51,
   "metadata": {},
   "outputs": [
    {
     "data": {
      "text/plain": [
       "9.304347826086957"
      ]
     },
     "execution_count": 51,
     "metadata": {},
     "output_type": "execute_result"
    }
   ],
   "source": [
    "214/23"
   ]
  },
  {
   "cell_type": "code",
   "execution_count": 31,
   "metadata": {},
   "outputs": [],
   "source": [
    "x = 46\n",
    "internal = 18"
   ]
  },
  {
   "cell_type": "code",
   "execution_count": 32,
   "metadata": {},
   "outputs": [
    {
     "data": {
      "text/plain": [
       "54.800000000000004"
      ]
     },
     "execution_count": 32,
     "metadata": {},
     "output_type": "execute_result"
    }
   ],
   "source": [
    "x*0.8+internal"
   ]
  },
  {
   "cell_type": "code",
   "execution_count": 4,
   "metadata": {
    "scrolled": true
   },
   "outputs": [
    {
     "data": {
      "text/plain": [
       "8.227777777777778"
      ]
     },
     "execution_count": 4,
     "metadata": {},
     "output_type": "execute_result"
    }
   ],
   "source": [
    "(179+175+173+200+202+214+202+136)/(25+25+23+24+22+23+22+16)"
   ]
  },
  {
   "cell_type": "code",
   "execution_count": 13,
   "metadata": {},
   "outputs": [],
   "source": [
    "# 10 O\n",
    "# 9 A+\n",
    "# 8 A\n",
    "# 7 B+\n",
    "# 6 B\n",
    "# 5 U"
   ]
  },
  {
   "cell_type": "code",
   "execution_count": 4,
   "metadata": {},
   "outputs": [],
   "source": [
    "# 1st \n",
    "# 8\n",
    "# 7 3\n",
    "# 6 3\n",
    "# 7 4\n",
    "# 8 4\n",
    "# 6 4\n",
    "# 6 3\n",
    "# 9 2\n",
    "# 10 2\n",
    "# 179 25\n",
    "# your gpa is 7.16"
   ]
  },
  {
   "cell_type": "code",
   "execution_count": 6,
   "metadata": {},
   "outputs": [],
   "source": [
    "# 2nd\n",
    "# 8\n",
    "# 6 4\n",
    "# 7 3\n",
    "# 6 3\n",
    "# 8 4\n",
    "# 6 4\n",
    "# 6 3\n",
    "# 9 2\n",
    "# 10 2\n",
    "# 175 25\n",
    "# your gpa is 7.0"
   ]
  },
  {
   "cell_type": "code",
   "execution_count": null,
   "metadata": {},
   "outputs": [],
   "source": [
    "# 3rd\n",
    "# 8\n",
    "# 6 3\n",
    "# 7 4\n",
    "# 7 3\n",
    "# 10 2\n",
    "# 9 3\n",
    "# 7 3\n",
    "# 10 2\n",
    "# 6 3\n",
    "# 173 23\n",
    "# your gpa is 7.522"
   ]
  },
  {
   "cell_type": "code",
   "execution_count": null,
   "metadata": {},
   "outputs": [],
   "source": [
    "# 4th\n",
    "# 8 \n",
    "# 9 4\n",
    "# 10 2\n",
    "# 8 3\n",
    "# 8 3\n",
    "# 10 2\n",
    "# 7 4\n",
    "# 7 3\n",
    "# 9 3\n",
    "# 200 24\n",
    "# your gpa is 8.333"
   ]
  },
  {
   "cell_type": "code",
   "execution_count": 12,
   "metadata": {},
   "outputs": [],
   "source": [
    "# 5th\n",
    "# 8\n",
    "# 9 3\n",
    "# 9 3\n",
    "# 10 3\n",
    "# 8 3\n",
    "# 9 3\n",
    "# 9 3\n",
    "# 10 2\n",
    "# 10 2\n",
    "# 202 22\n",
    "# your gpa is 9.182"
   ]
  },
  {
   "cell_type": "code",
   "execution_count": null,
   "metadata": {},
   "outputs": [],
   "source": [
    "# 6th\n",
    "# 9\n",
    "# 10 3\n",
    "# 10 3\n",
    "# 9 3\n",
    "# 10 3\n",
    "# 9 3\n",
    "# 7 3\n",
    "# 10 2\n",
    "# 10 2\n",
    "# 9 1\n",
    "# 214 23\n",
    "# your gpa is 9.304"
   ]
  },
  {
   "cell_type": "code",
   "execution_count": null,
   "metadata": {},
   "outputs": [],
   "source": [
    "# 7th\n",
    "# 8\n",
    "# 9 3\n",
    "# 10 3\n",
    "# 9 3\n",
    "# 9 3\n",
    "# 8 3\n",
    "# 9 3\n",
    "# 10 2\n",
    "# 10 2\n",
    "# 202 22\n",
    "# your gpa is 9.182"
   ]
  },
  {
   "cell_type": "code",
   "execution_count": null,
   "metadata": {},
   "outputs": [],
   "source": [
    "# 7\n",
    "# 179 25\n",
    "# 175 25\n",
    "# 173 23\n",
    "# 200 24\n",
    "# 202 22\n",
    "# 214 23\n",
    "# 202 22\n",
    "# Your cgpa is 8.201219512195122"
   ]
  },
  {
   "cell_type": "code",
   "execution_count": 2,
   "metadata": {
    "scrolled": false
   },
   "outputs": [
    {
     "ename": "SyntaxError",
     "evalue": "invalid syntax (<ipython-input-2-16c9278fc574>, line 1)",
     "output_type": "error",
     "traceback": [
      "\u001b[1;36m  File \u001b[1;32m\"<ipython-input-2-16c9278fc574>\"\u001b[1;36m, line \u001b[1;32m1\u001b[0m\n\u001b[1;33m    Vijayarangan PR\u001b[0m\n\u001b[1;37m                 ^\u001b[0m\n\u001b[1;31mSyntaxError\u001b[0m\u001b[1;31m:\u001b[0m invalid syntax\n"
     ]
    }
   ],
   "source": [
    "Vijayarangan PR\n",
    "312318107102\n",
    "Cgpa:8.201"
   ]
  },
  {
   "cell_type": "code",
   "execution_count": null,
   "metadata": {},
   "outputs": [],
   "source": [
    "8\n",
    "6 3\n",
    "0 0 \n",
    "7 3\n",
    "10 2\n",
    "0 0 \n",
    "7 3\n",
    "10 2\n",
    "6 3\n",
    "your gpa is 7.375"
   ]
  }
 ],
 "metadata": {
  "kernelspec": {
   "display_name": "Python 3 (ipykernel)",
   "language": "python",
   "name": "python3"
  },
  "language_info": {
   "codemirror_mode": {
    "name": "ipython",
    "version": 3
   },
   "file_extension": ".py",
   "mimetype": "text/x-python",
   "name": "python",
   "nbconvert_exporter": "python",
   "pygments_lexer": "ipython3",
   "version": "3.9.12"
  },
  "toc": {
   "base_numbering": 1,
   "nav_menu": {},
   "number_sections": true,
   "sideBar": true,
   "skip_h1_title": false,
   "title_cell": "Table of Contents",
   "title_sidebar": "Contents",
   "toc_cell": false,
   "toc_position": {},
   "toc_section_display": true,
   "toc_window_display": false
  }
 },
 "nbformat": 4,
 "nbformat_minor": 4
}
