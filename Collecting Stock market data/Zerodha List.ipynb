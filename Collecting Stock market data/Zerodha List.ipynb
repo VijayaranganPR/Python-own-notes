{
 "cells": [
  {
   "cell_type": "code",
   "execution_count": 1,
   "metadata": {},
   "outputs": [],
   "source": [
    "from datetime import datetime\n",
    "import pandas as pd\n",
    "import requests, time"
   ]
  },
  {
   "cell_type": "code",
   "execution_count": 2,
   "metadata": {},
   "outputs": [],
   "source": [
    "def datetotimestamp(date):\n",
    "    time_tuple = date.timetuple()\n",
    "    timestamp = round(time.mktime(time_tuple))\n",
    "    return timestamp"
   ]
  },
  {
   "cell_type": "code",
   "execution_count": 3,
   "metadata": {},
   "outputs": [],
   "source": [
    "def timestamptodate(timestamp):\n",
    "    return datetime.fromtimestamp(timestamp)"
   ]
  },
  {
   "cell_type": "markdown",
   "metadata": {},
   "source": [
    "https://priceapi.moneycontrol.com/techCharts/techChartController/history?symbol=JSWENERGY&resolution=1&from=1649591882&to=1649684988"
   ]
  },
  {
   "cell_type": "code",
   "execution_count": 4,
   "metadata": {},
   "outputs": [
    {
     "data": {
      "text/plain": [
       "'C:\\\\Users\\\\prvij\\\\Desktop\\\\Zerodha'"
      ]
     },
     "execution_count": 4,
     "metadata": {},
     "output_type": "execute_result"
    }
   ],
   "source": [
    "pwd"
   ]
  },
  {
   "cell_type": "code",
   "execution_count": null,
   "metadata": {},
   "outputs": [],
   "source": [
    "all_symbol = ['INFY','TCS','HCLTECH','WIPRO','TECHM','RELIANCE',\n",
    "              'SUNPHARMA','DIVISLAB','DRREDDY','CIPLA','ZYDUSLIFE',\n",
    "              'HDFC','ICICIBANK','KOTAKBANK','SBIN',\n",
    "              'JSWENERGY','POWERGRID','NTPC','ONGC','ADANIGREEN','ADANIPOWER','BPCL','IOC','JPPOWER','ADANITRANS',\n",
    "              'HINDUNILVR','ITC','TITAN','ASIANPAINT','MCDOWELL-N',\n",
    "              'JSWSTEEL','TATASTEEL','HINDALCO','SAIL','COALINDIA',\n",
    "              'ADANIPORTS','PAYTM','LATENTVIEW','PARAS','TATAMOTORS','TRIDENT','GOENKA','TEGA','MARUTI','IRCTC']\n",
    "for symbol in all_symbol:\n",
    "    start = datetotimestamp(datetime(2022,4,11))\n",
    "    end = datetotimestamp(datetime.today())\n",
    "    resolution = \"1\" # 1 min = 1, 3 min = 3, 5 min = 5, 1 hour = 60, 1 day = 1D\n",
    "    url = f\"https://priceapi.moneycontrol.com/techCharts/techChartController/history?symbol={symbol}&resolution={resolution}&from={str(start)}&to={str(end)}\"\n",
    "\n",
    "\n",
    "    req = requests.get(url).json()\n",
    "    data = pd.DataFrame(req)\n",
    "    date = []\n",
    "    for dt in data['t']:\n",
    "        date.append({'Date':timestamptodate(dt)})\n",
    "    dt = pd.DataFrame(date)\n",
    "    intraday_data = pd.concat([dt,data['o'],data['h'],data['l'],data['c'],data['v']],axis = 1).rename(columns = {'o':'Open', 'h':\"High\", 'l':\"Low\", 'c':'Close','v':\"Volume\"})\n",
    "    intraday_data.to_csv(f\"C:/Users/prvij/Desktop/Zerodha/Zerodha List/{symbol}.csv\",header=True,index = False)"
   ]
  },
  {
   "cell_type": "code",
   "execution_count": null,
   "metadata": {},
   "outputs": [],
   "source": [
    "\n",
    "# req = requests.get(url).json()\n",
    "# data = pd.DataFrame(req)\n",
    "# date = []\n",
    "# for dt in data['t']:\n",
    "#     date.append({'Date':timestamptodate(dt)})\n",
    "# dt = pd.DataFrame(date)\n",
    "# intraday_data = pd.concat([dt,data['o'],data['h'],data['l'],data['c'],data['v']],axis = 1).rename(columns = {'o':'Open', 'h':\"High\", 'l':\"Low\", 'c':'Close','v':\"Volume\"})\n",
    "# intraday_data"
   ]
  },
  {
   "cell_type": "code",
   "execution_count": null,
   "metadata": {},
   "outputs": [],
   "source": [
    "intraday_data.to_csv(\"C:/Users/prvij/Desktop/Zerodha_data.csv\",header=True,index = False)"
   ]
  },
  {
   "cell_type": "code",
   "execution_count": null,
   "metadata": {},
   "outputs": [],
   "source": []
  }
 ],
 "metadata": {
  "kernelspec": {
   "display_name": "Python 3",
   "language": "python",
   "name": "python3"
  },
  "language_info": {
   "codemirror_mode": {
    "name": "ipython",
    "version": 3
   },
   "file_extension": ".py",
   "mimetype": "text/x-python",
   "name": "python",
   "nbconvert_exporter": "python",
   "pygments_lexer": "ipython3",
   "version": "3.7.1"
  }
 },
 "nbformat": 4,
 "nbformat_minor": 2
}
