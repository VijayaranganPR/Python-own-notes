{
 "cells": [
  {
   "cell_type": "code",
   "execution_count": 4,
   "metadata": {},
   "outputs": [],
   "source": [
    "import pandas as pd\n"
   ]
  },
  {
   "cell_type": "code",
   "execution_count": 5,
   "metadata": {},
   "outputs": [],
   "source": [
    "data = pd.read_csv(\"Zerodha List/ONGC.csv\")"
   ]
  },
  {
   "cell_type": "code",
   "execution_count": 7,
   "metadata": {},
   "outputs": [
    {
     "data": {
      "text/html": [
       "<div>\n",
       "<style scoped>\n",
       "    .dataframe tbody tr th:only-of-type {\n",
       "        vertical-align: middle;\n",
       "    }\n",
       "\n",
       "    .dataframe tbody tr th {\n",
       "        vertical-align: top;\n",
       "    }\n",
       "\n",
       "    .dataframe thead th {\n",
       "        text-align: right;\n",
       "    }\n",
       "</style>\n",
       "<table border=\"1\" class=\"dataframe\">\n",
       "  <thead>\n",
       "    <tr style=\"text-align: right;\">\n",
       "      <th></th>\n",
       "      <th>Date</th>\n",
       "      <th>Open</th>\n",
       "      <th>High</th>\n",
       "      <th>Low</th>\n",
       "      <th>Close</th>\n",
       "      <th>Volume</th>\n",
       "    </tr>\n",
       "  </thead>\n",
       "  <tbody>\n",
       "    <tr>\n",
       "      <th>0</th>\n",
       "      <td>2022-04-11 09:15:00</td>\n",
       "      <td>170.45</td>\n",
       "      <td>170.45</td>\n",
       "      <td>169.70</td>\n",
       "      <td>169.95</td>\n",
       "      <td>308369</td>\n",
       "    </tr>\n",
       "    <tr>\n",
       "      <th>1</th>\n",
       "      <td>2022-04-11 09:16:00</td>\n",
       "      <td>170.05</td>\n",
       "      <td>170.40</td>\n",
       "      <td>170.05</td>\n",
       "      <td>170.40</td>\n",
       "      <td>465442</td>\n",
       "    </tr>\n",
       "    <tr>\n",
       "      <th>2</th>\n",
       "      <td>2022-04-11 09:17:00</td>\n",
       "      <td>170.45</td>\n",
       "      <td>170.45</td>\n",
       "      <td>170.20</td>\n",
       "      <td>170.45</td>\n",
       "      <td>678209</td>\n",
       "    </tr>\n",
       "    <tr>\n",
       "      <th>3</th>\n",
       "      <td>2022-04-11 09:18:00</td>\n",
       "      <td>170.40</td>\n",
       "      <td>171.80</td>\n",
       "      <td>170.40</td>\n",
       "      <td>171.65</td>\n",
       "      <td>930195</td>\n",
       "    </tr>\n",
       "    <tr>\n",
       "      <th>4</th>\n",
       "      <td>2022-04-11 09:19:00</td>\n",
       "      <td>171.60</td>\n",
       "      <td>172.00</td>\n",
       "      <td>171.60</td>\n",
       "      <td>172.00</td>\n",
       "      <td>1003596</td>\n",
       "    </tr>\n",
       "  </tbody>\n",
       "</table>\n",
       "</div>"
      ],
      "text/plain": [
       "                  Date    Open    High     Low   Close   Volume\n",
       "0  2022-04-11 09:15:00  170.45  170.45  169.70  169.95   308369\n",
       "1  2022-04-11 09:16:00  170.05  170.40  170.05  170.40   465442\n",
       "2  2022-04-11 09:17:00  170.45  170.45  170.20  170.45   678209\n",
       "3  2022-04-11 09:18:00  170.40  171.80  170.40  171.65   930195\n",
       "4  2022-04-11 09:19:00  171.60  172.00  171.60  172.00  1003596"
      ]
     },
     "execution_count": 7,
     "metadata": {},
     "output_type": "execute_result"
    }
   ],
   "source": [
    "data.head()"
   ]
  },
  {
   "cell_type": "code",
   "execution_count": null,
   "metadata": {},
   "outputs": [],
   "source": []
  },
  {
   "cell_type": "code",
   "execution_count": null,
   "metadata": {},
   "outputs": [],
   "source": []
  }
 ],
 "metadata": {
  "kernelspec": {
   "display_name": "Python 3",
   "language": "python",
   "name": "python3"
  },
  "language_info": {
   "codemirror_mode": {
    "name": "ipython",
    "version": 3
   },
   "file_extension": ".py",
   "mimetype": "text/x-python",
   "name": "python",
   "nbconvert_exporter": "python",
   "pygments_lexer": "ipython3",
   "version": "3.7.1"
  }
 },
 "nbformat": 4,
 "nbformat_minor": 2
}
