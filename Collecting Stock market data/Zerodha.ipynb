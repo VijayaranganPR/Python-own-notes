{
 "cells": [
  {
   "cell_type": "code",
   "execution_count": 1,
   "metadata": {},
   "outputs": [],
   "source": [
    "from datetime import datetime\n",
    "import pandas as pd\n",
    "import requests, time"
   ]
  },
  {
   "cell_type": "code",
   "execution_count": 2,
   "metadata": {},
   "outputs": [],
   "source": [
    "def datetotimestamp(date):\n",
    "    time_tuple = date.timetuple()\n",
    "    timestamp = round(time.mktime(time_tuple))\n",
    "    return timestamp"
   ]
  },
  {
   "cell_type": "code",
   "execution_count": 3,
   "metadata": {},
   "outputs": [],
   "source": [
    "def timestamptodate(timestamp):\n",
    "    return datetime.fromtimestamp(timestamp)"
   ]
  },
  {
   "cell_type": "code",
   "execution_count": 4,
   "metadata": {},
   "outputs": [],
   "source": [
    "start = datetotimestamp(datetime(2022,4,7))\n",
    "end = datetotimestamp(datetime.today())\n",
    "symbol = 'ONGC'\n",
    "resolution = \"1\" # 1 min = 1, 3 min = 3, 5 min = 5, 1 hour = 60, 1 day = 1D\n",
    "url = f\"https://priceapi.moneycontrol.com/techCharts/techChartController/history?symbol={symbol}&resolution={resolution}&from={str(start)}&to={str(end)}\"\n",
    "\n",
    "\n",
    "\n",
    "req = requests.get(url).json()\n",
    "data = pd.DataFrame(req)\n",
    "date = []\n",
    "for dt in data['t']:\n",
    "    date.append({'Date':timestamptodate(dt)})\n",
    "dt = pd.DataFrame(date)\n",
    "intraday_data = pd.concat([dt,data['o'],data['h'],data['l'],data['c'],data['v']],axis = 1).rename(columns = {'o':'Open', 'h':\"High\", 'l':\"Low\", 'c':'Close','v':\"Volume\"})\n",
    "intraday_data.to_csv(f\"C:/Users/prvij/Desktop/{symbol}.csv\",header=True,index = False)"
   ]
  },
  {
   "cell_type": "markdown",
   "metadata": {},
   "source": [
    "# Graph for single day\n"
   ]
  },
  {
   "cell_type": "code",
   "execution_count": 5,
   "metadata": {},
   "outputs": [],
   "source": [
    "import matplotlib.pyplot as plt"
   ]
  },
  {
   "cell_type": "code",
   "execution_count": 6,
   "metadata": {},
   "outputs": [
    {
     "data": {
      "text/html": [
       "<div>\n",
       "<style scoped>\n",
       "    .dataframe tbody tr th:only-of-type {\n",
       "        vertical-align: middle;\n",
       "    }\n",
       "\n",
       "    .dataframe tbody tr th {\n",
       "        vertical-align: top;\n",
       "    }\n",
       "\n",
       "    .dataframe thead th {\n",
       "        text-align: right;\n",
       "    }\n",
       "</style>\n",
       "<table border=\"1\" class=\"dataframe\">\n",
       "  <thead>\n",
       "    <tr style=\"text-align: right;\">\n",
       "      <th></th>\n",
       "      <th>Date</th>\n",
       "      <th>Open</th>\n",
       "      <th>High</th>\n",
       "      <th>Low</th>\n",
       "      <th>Close</th>\n",
       "      <th>Volume</th>\n",
       "    </tr>\n",
       "  </thead>\n",
       "  <tbody>\n",
       "    <tr>\n",
       "      <th>0</th>\n",
       "      <td>2022-04-07 09:15:00</td>\n",
       "      <td>171.40</td>\n",
       "      <td>171.40</td>\n",
       "      <td>170.4</td>\n",
       "      <td>170.70</td>\n",
       "      <td>649955</td>\n",
       "    </tr>\n",
       "    <tr>\n",
       "      <th>1</th>\n",
       "      <td>2022-04-07 09:16:00</td>\n",
       "      <td>171.10</td>\n",
       "      <td>171.10</td>\n",
       "      <td>170.2</td>\n",
       "      <td>170.20</td>\n",
       "      <td>929742</td>\n",
       "    </tr>\n",
       "    <tr>\n",
       "      <th>2</th>\n",
       "      <td>2022-04-07 09:17:00</td>\n",
       "      <td>170.30</td>\n",
       "      <td>170.35</td>\n",
       "      <td>169.9</td>\n",
       "      <td>169.90</td>\n",
       "      <td>1128009</td>\n",
       "    </tr>\n",
       "    <tr>\n",
       "      <th>3</th>\n",
       "      <td>2022-04-07 09:18:00</td>\n",
       "      <td>169.85</td>\n",
       "      <td>169.85</td>\n",
       "      <td>169.4</td>\n",
       "      <td>169.80</td>\n",
       "      <td>1649000</td>\n",
       "    </tr>\n",
       "    <tr>\n",
       "      <th>4</th>\n",
       "      <td>2022-04-07 09:19:00</td>\n",
       "      <td>169.70</td>\n",
       "      <td>169.95</td>\n",
       "      <td>169.6</td>\n",
       "      <td>169.95</td>\n",
       "      <td>1867851</td>\n",
       "    </tr>\n",
       "  </tbody>\n",
       "</table>\n",
       "</div>"
      ],
      "text/plain": [
       "                 Date    Open    High    Low   Close   Volume\n",
       "0 2022-04-07 09:15:00  171.40  171.40  170.4  170.70   649955\n",
       "1 2022-04-07 09:16:00  171.10  171.10  170.2  170.20   929742\n",
       "2 2022-04-07 09:17:00  170.30  170.35  169.9  169.90  1128009\n",
       "3 2022-04-07 09:18:00  169.85  169.85  169.4  169.80  1649000\n",
       "4 2022-04-07 09:19:00  169.70  169.95  169.6  169.95  1867851"
      ]
     },
     "execution_count": 6,
     "metadata": {},
     "output_type": "execute_result"
    }
   ],
   "source": [
    "intraday_data.head()"
   ]
  },
  {
   "cell_type": "code",
   "execution_count": 7,
   "metadata": {},
   "outputs": [],
   "source": [
    "f = []\n",
    "for k in intraday_data['Date']:\n",
    "    h = \".\".join(str(k)[-8:-3].split(':'))\n",
    "    f.append({'Time':float(h)})\n",
    "o = pd.DataFrame(f)"
   ]
  },
  {
   "cell_type": "code",
   "execution_count": 8,
   "metadata": {},
   "outputs": [],
   "source": [
    "a = pd.concat([o,intraday_data['Open'],intraday_data['High'],intraday_data['Low'],intraday_data['Close'],intraday_data['Volume']],axis = 1)"
   ]
  },
  {
   "cell_type": "code",
   "execution_count": 9,
   "metadata": {},
   "outputs": [
    {
     "data": {
      "text/plain": [
       "[<matplotlib.lines.Line2D at 0x1ba50bf76d8>]"
      ]
     },
     "execution_count": 9,
     "metadata": {},
     "output_type": "execute_result"
    },
    {
     "data": {
      "image/png": "[encoded data removed]",
      "text/plain": [
       "<Figure size 432x288 with 1 Axes>"
      ]
     },
     "metadata": {
      "needs_background": "light"
     },
     "output_type": "display_data"
    }
   ],
   "source": [
    "plt.plot(o['Time'],intraday_data['Open'])"
   ]
  },
  {
   "cell_type": "markdown",
   "metadata": {},
   "source": [
    "# Graph for days"
   ]
  },
  {
   "cell_type": "code",
   "execution_count": 10,
   "metadata": {},
   "outputs": [
    {
     "data": {
      "text/html": [
       "<div>\n",
       "<style scoped>\n",
       "    .dataframe tbody tr th:only-of-type {\n",
       "        vertical-align: middle;\n",
       "    }\n",
       "\n",
       "    .dataframe tbody tr th {\n",
       "        vertical-align: top;\n",
       "    }\n",
       "\n",
       "    .dataframe thead th {\n",
       "        text-align: right;\n",
       "    }\n",
       "</style>\n",
       "<table border=\"1\" class=\"dataframe\">\n",
       "  <thead>\n",
       "    <tr style=\"text-align: right;\">\n",
       "      <th></th>\n",
       "      <th>Date</th>\n",
       "      <th>Open</th>\n",
       "      <th>High</th>\n",
       "      <th>Low</th>\n",
       "      <th>Close</th>\n",
       "      <th>Volume</th>\n",
       "    </tr>\n",
       "  </thead>\n",
       "  <tbody>\n",
       "    <tr>\n",
       "      <th>0</th>\n",
       "      <td>2022-04-07 09:15:00</td>\n",
       "      <td>171.40</td>\n",
       "      <td>171.40</td>\n",
       "      <td>170.4</td>\n",
       "      <td>170.70</td>\n",
       "      <td>649955</td>\n",
       "    </tr>\n",
       "    <tr>\n",
       "      <th>1</th>\n",
       "      <td>2022-04-07 09:16:00</td>\n",
       "      <td>171.10</td>\n",
       "      <td>171.10</td>\n",
       "      <td>170.2</td>\n",
       "      <td>170.20</td>\n",
       "      <td>929742</td>\n",
       "    </tr>\n",
       "    <tr>\n",
       "      <th>2</th>\n",
       "      <td>2022-04-07 09:17:00</td>\n",
       "      <td>170.30</td>\n",
       "      <td>170.35</td>\n",
       "      <td>169.9</td>\n",
       "      <td>169.90</td>\n",
       "      <td>1128009</td>\n",
       "    </tr>\n",
       "    <tr>\n",
       "      <th>3</th>\n",
       "      <td>2022-04-07 09:18:00</td>\n",
       "      <td>169.85</td>\n",
       "      <td>169.85</td>\n",
       "      <td>169.4</td>\n",
       "      <td>169.80</td>\n",
       "      <td>1649000</td>\n",
       "    </tr>\n",
       "    <tr>\n",
       "      <th>4</th>\n",
       "      <td>2022-04-07 09:19:00</td>\n",
       "      <td>169.70</td>\n",
       "      <td>169.95</td>\n",
       "      <td>169.6</td>\n",
       "      <td>169.95</td>\n",
       "      <td>1867851</td>\n",
       "    </tr>\n",
       "  </tbody>\n",
       "</table>\n",
       "</div>"
      ],
      "text/plain": [
       "                 Date    Open    High    Low   Close   Volume\n",
       "0 2022-04-07 09:15:00  171.40  171.40  170.4  170.70   649955\n",
       "1 2022-04-07 09:16:00  171.10  171.10  170.2  170.20   929742\n",
       "2 2022-04-07 09:17:00  170.30  170.35  169.9  169.90  1128009\n",
       "3 2022-04-07 09:18:00  169.85  169.85  169.4  169.80  1649000\n",
       "4 2022-04-07 09:19:00  169.70  169.95  169.6  169.95  1867851"
      ]
     },
     "execution_count": 10,
     "metadata": {},
     "output_type": "execute_result"
    }
   ],
   "source": [
    "intraday_data.head()"
   ]
  },
  {
   "cell_type": "code",
   "execution_count": 11,
   "metadata": {},
   "outputs": [],
   "source": [
    "f = []\n",
    "for k in intraday_data['Date']:\n",
    "    h = str(k)[8:10]\n",
    "    f.append({'Day':h})\n",
    "o = pd.DataFrame(f)"
   ]
  },
  {
   "cell_type": "code",
   "execution_count": 12,
   "metadata": {},
   "outputs": [
    {
     "data": {
      "text/plain": [
       "[<matplotlib.lines.Line2D at 0x1ba50af0cc0>]"
      ]
     },
     "execution_count": 12,
     "metadata": {},
     "output_type": "execute_result"
    },
    {
     "data": {
      "image/png": "[encoded data removed]",
      "text/plain": [
       "<Figure size 432x288 with 1 Axes>"
      ]
     },
     "metadata": {
      "needs_background": "light"
     },
     "output_type": "display_data"
    }
   ],
   "source": [
    "plt.plot(o['Day'],intraday_data['Open'])"
   ]
  },
  {
   "cell_type": "code",
   "execution_count": 13,
   "metadata": {},
   "outputs": [
    {
     "data": {
      "text/html": [
       "<div>\n",
       "<style scoped>\n",
       "    .dataframe tbody tr th:only-of-type {\n",
       "        vertical-align: middle;\n",
       "    }\n",
       "\n",
       "    .dataframe tbody tr th {\n",
       "        vertical-align: top;\n",
       "    }\n",
       "\n",
       "    .dataframe thead th {\n",
       "        text-align: right;\n",
       "    }\n",
       "</style>\n",
       "<table border=\"1\" class=\"dataframe\">\n",
       "  <thead>\n",
       "    <tr style=\"text-align: right;\">\n",
       "      <th></th>\n",
       "      <th>Date</th>\n",
       "      <th>Open</th>\n",
       "      <th>High</th>\n",
       "      <th>Low</th>\n",
       "      <th>Close</th>\n",
       "      <th>Volume</th>\n",
       "    </tr>\n",
       "  </thead>\n",
       "  <tbody>\n",
       "    <tr>\n",
       "      <th>0</th>\n",
       "      <td>2022-04-07 09:15:00</td>\n",
       "      <td>171.40</td>\n",
       "      <td>171.40</td>\n",
       "      <td>170.4</td>\n",
       "      <td>170.70</td>\n",
       "      <td>649955</td>\n",
       "    </tr>\n",
       "    <tr>\n",
       "      <th>1</th>\n",
       "      <td>2022-04-07 09:16:00</td>\n",
       "      <td>171.10</td>\n",
       "      <td>171.10</td>\n",
       "      <td>170.2</td>\n",
       "      <td>170.20</td>\n",
       "      <td>929742</td>\n",
       "    </tr>\n",
       "    <tr>\n",
       "      <th>2</th>\n",
       "      <td>2022-04-07 09:17:00</td>\n",
       "      <td>170.30</td>\n",
       "      <td>170.35</td>\n",
       "      <td>169.9</td>\n",
       "      <td>169.90</td>\n",
       "      <td>1128009</td>\n",
       "    </tr>\n",
       "    <tr>\n",
       "      <th>3</th>\n",
       "      <td>2022-04-07 09:18:00</td>\n",
       "      <td>169.85</td>\n",
       "      <td>169.85</td>\n",
       "      <td>169.4</td>\n",
       "      <td>169.80</td>\n",
       "      <td>1649000</td>\n",
       "    </tr>\n",
       "    <tr>\n",
       "      <th>4</th>\n",
       "      <td>2022-04-07 09:19:00</td>\n",
       "      <td>169.70</td>\n",
       "      <td>169.95</td>\n",
       "      <td>169.6</td>\n",
       "      <td>169.95</td>\n",
       "      <td>1867851</td>\n",
       "    </tr>\n",
       "  </tbody>\n",
       "</table>\n",
       "</div>"
      ],
      "text/plain": [
       "                 Date    Open    High    Low   Close   Volume\n",
       "0 2022-04-07 09:15:00  171.40  171.40  170.4  170.70   649955\n",
       "1 2022-04-07 09:16:00  171.10  171.10  170.2  170.20   929742\n",
       "2 2022-04-07 09:17:00  170.30  170.35  169.9  169.90  1128009\n",
       "3 2022-04-07 09:18:00  169.85  169.85  169.4  169.80  1649000\n",
       "4 2022-04-07 09:19:00  169.70  169.95  169.6  169.95  1867851"
      ]
     },
     "execution_count": 13,
     "metadata": {},
     "output_type": "execute_result"
    }
   ],
   "source": [
    "intraday_data.head()"
   ]
  },
  {
   "cell_type": "code",
   "execution_count": 14,
   "metadata": {},
   "outputs": [],
   "source": [
    "f = []\n",
    "for k in intraday_data['Date']:\n",
    "    h = \".\".join(str(k)[5:10].split('-'))\n",
    "    f.append({'Month':h})\n",
    "o = pd.DataFrame(f)"
   ]
  },
  {
   "cell_type": "code",
   "execution_count": 15,
   "metadata": {},
   "outputs": [
    {
     "data": {
      "text/plain": [
       "[<matplotlib.lines.Line2D at 0x1ba50d043c8>]"
      ]
     },
     "execution_count": 15,
     "metadata": {},
     "output_type": "execute_result"
    },
    {
     "data": {
      "image/png": "[encoded data removed]",
      "text/plain": [
       "<Figure size 432x288 with 1 Axes>"
      ]
     },
     "metadata": {
      "needs_background": "light"
     },
     "output_type": "display_data"
    }
   ],
   "source": [
    "plt.plot(o['Month'],intraday_data['Open'])"
   ]
  },
  {
   "cell_type": "code",
   "execution_count": null,
   "metadata": {},
   "outputs": [],
   "source": []
  }
 ],
 "metadata": {
  "kernelspec": {
   "display_name": "Python 3",
   "language": "python",
   "name": "python3"
  },
  "language_info": {
   "codemirror_mode": {
    "name": "ipython",
    "version": 3
   },
   "file_extension": ".py",
   "mimetype": "text/x-python",
   "name": "python",
   "nbconvert_exporter": "python",
   "pygments_lexer": "ipython3",
   "version": "3.7.1"
  }
 },
 "nbformat": 4,
 "nbformat_minor": 2
}
