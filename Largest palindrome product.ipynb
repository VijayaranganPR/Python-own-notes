{
 "cells": [
  {
   "cell_type": "code",
   "execution_count": 17,
   "metadata": {},
   "outputs": [
    {
     "name": "stdout",
     "output_type": "stream",
     "text": [
      "1\n",
      "102201\n",
      "101101\n"
     ]
    }
   ],
   "source": [
    "palindromelist = []\n",
    "for i in range(100, 1000):\n",
    "    for j in range(100, 1000):\n",
    "        a = i * j\n",
    "        if str(a) == str(a)[::-1] and a not in palindromelist and len(str(a))>5:\n",
    "            palindromelist.append(a)\n",
    "palindromelist.sort()\n",
    "\n",
    "n = int(input())\n",
    "for _ in range(n):\n",
    "    a = int(input())\n",
    "    for i in palindromelist:\n",
    "        if i >= a:\n",
    "            ind = palindromelist.index(i)\n",
    "            print(palindromelist[ind-1])\n",
    "            break"
   ]
  },
  {
   "cell_type": "code",
   "execution_count": null,
   "metadata": {},
   "outputs": [],
   "source": [
    "palindromelist = []\n",
    "for i in range(100, 1000):\n",
    "    for j in range(100, 1000):\n",
    "        a = i * j\n",
    "        if str(a) == str(a)[::-1] and a not in palindromelist and len(str(a))>5:\n",
    "            palindromelist.append(a)\n",
    "            \n",
    "palindromelist.sort()\n",
    "length = len(palindromelist)\n",
    "\n",
    "\n",
    "n = int(input())\n",
    "for _ in range(n):\n",
    "    a = int(input())\n",
    "    for i in range(length - 1, -1, -1):\n",
    "        if palindromelist[i] < a:\n",
    "            print(palindromelist[i])\n",
    "            break"
   ]
  }
 ],
 "metadata": {
  "kernelspec": {
   "display_name": "Python 3",
   "language": "python",
   "name": "python3"
  },
  "language_info": {
   "codemirror_mode": {
    "name": "ipython",
    "version": 3
   },
   "file_extension": ".py",
   "mimetype": "text/x-python",
   "name": "python",
   "nbconvert_exporter": "python",
   "pygments_lexer": "ipython3",
   "version": "3.8.5"
  }
 },
 "nbformat": 4,
 "nbformat_minor": 4
}
