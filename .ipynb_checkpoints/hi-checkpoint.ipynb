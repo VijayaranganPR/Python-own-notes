{
 "cells": [
  {
   "cell_type": "code",
   "execution_count": 124,
   "metadata": {},
   "outputs": [
    {
     "name": "stdout",
     "output_type": "stream",
     "text": [
      "[23, 3719, 3742, 7461, 11203, 18664, 29867, 48531, 78398, 126929, 205327, 332256, 537583, 869839, 1407422, 2277261, 3684683, 5961944, 9646627, 15608571, 25255198, 40863769, 66118967, 106982736, 173101703, 280084439, 453186142, 733270581, 1186456723, 1919727304, 3106184027, 5025911331, 8132095358, 13158006689]\n"
     ]
    }
   ],
   "source": [
    "a=23\n",
    "b=3719\n",
    "n=34-2\n",
    "temp=0\n",
    "l=[a,b]\n",
    "while(n>0):\n",
    "    \n",
    "    temp=a+b\n",
    "    a=b\n",
    "    b=temp\n",
    "    l.append(temp)\n",
    "    n-=1\n",
    "print(l)"
   ]
  },
  {
   "cell_type": "code",
   "execution_count": 148,
   "metadata": {},
   "outputs": [
    {
     "name": "stdout",
     "output_type": "stream",
     "text": [
      "Enter a two value: 20 30\n",
      "Wall time: 2.69 s\n"
     ]
    },
    {
     "data": {
      "text/plain": [
       "str"
      ]
     },
     "execution_count": 148,
     "metadata": {},
     "output_type": "execute_result"
    }
   ],
   "source": [
    "%%time\n",
    "x, y = input(\"Enter a two value: \").split() \n",
    "type(x)"
   ]
  },
  {
   "cell_type": "code",
   "execution_count": 150,
   "metadata": {},
   "outputs": [
    {
     "name": "stdout",
     "output_type": "stream",
     "text": [
      "20 30\n",
      "Wall time: 2.63 s\n"
     ]
    },
    {
     "data": {
      "text/plain": [
       "int"
      ]
     },
     "execution_count": 150,
     "metadata": {},
     "output_type": "execute_result"
    }
   ],
   "source": [
    "%%time \n",
    "x, y = [int(i) for i in input().split()]\n",
    "type(x)"
   ]
  },
  {
   "cell_type": "markdown",
   "metadata": {},
   "source": [
    "#### y"
   ]
  },
  {
   "cell_type": "code",
   "execution_count": null,
   "metadata": {},
   "outputs": [],
   "source": []
  }
 ],
 "metadata": {
  "kernelspec": {
   "display_name": "Python 3",
   "language": "python",
   "name": "python3"
  },
  "language_info": {
   "codemirror_mode": {
    "name": "ipython",
    "version": 3
   },
   "file_extension": ".py",
   "mimetype": "text/x-python",
   "name": "python",
   "nbconvert_exporter": "python",
   "pygments_lexer": "ipython3",
   "version": "3.7.6"
  }
 },
 "nbformat": 4,
 "nbformat_minor": 4
}
