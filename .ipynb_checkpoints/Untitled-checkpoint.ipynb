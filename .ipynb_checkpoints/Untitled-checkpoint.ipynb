{
 "cells": [
  {
   "cell_type": "code",
   "execution_count": 26,
   "metadata": {},
   "outputs": [
    {
     "name": "stdout",
     "output_type": "stream",
     "text": [
      "20 40\n",
      "3137\n",
      "Wall time: 4.1 s\n"
     ]
    }
   ],
   "source": [
    "%%time\n",
    "def prime(a,l):\n",
    "    \n",
    "    if (a<=1):\n",
    "        return None\n",
    "    if (a==2):\n",
    "        return l.append(a)\n",
    "    if (a%2==0):\n",
    "        return None\n",
    "    \n",
    "    k=round(a**0.5)\n",
    "    for j in range(2,k+1):\n",
    "        if(a%j==0):\n",
    "            return None\n",
    "    return l.append(a)\n",
    "\n",
    "def func(a,temp):\n",
    "    for i in range(len(temp)):\n",
    "        if i!=a:\n",
    "            x=str(temp[a])+str(temp[i])\n",
    "            list2.add(int(x))\n",
    "#find prime numbers\n",
    "s,e=[int(i) for i in input().split()]\n",
    "#s,e=20,80\n",
    "list1=[]\n",
    "for i in range(s,e):\n",
    "    prime(i,list1)\n",
    "#print(list1)\n",
    "\n",
    "#make a Combination of all the primes\n",
    "list2=set()\n",
    "for i in range(len(list1)):\n",
    "    func(i,list(list1))\n",
    "#print(list(sorted(list2)))\n",
    "\n",
    "#separating prime from Combination of all the primes\n",
    "list3=[]\n",
    "for i in list2:\n",
    "    prime(i,list3)\n",
    "#print(list3)\n",
    "\n",
    "zero=min(list3)\n",
    "one=max(list3)\n",
    "n=len(list3)-2\n",
    "temp=0\n",
    "l=[zero,one]\n",
    "while(n>0):\n",
    "    \n",
    "    temp=zero+one\n",
    "    zero=one\n",
    "    one=temp\n",
    "    l.append(temp)\n",
    "    n-=1\n",
    "#print(l)\n",
    "end=l.pop()\n",
    "print(end)"
   ]
  },
  {
   "cell_type": "code",
   "execution_count": 8,
   "metadata": {},
   "outputs": [
    {
     "name": "stdout",
     "output_type": "stream",
     "text": [
      "HIhi\n"
     ]
    }
   ],
   "source": [
    "print('HI',end=\"\")\n",
    "print('hi')"
   ]
  },
  {
   "cell_type": "code",
   "execution_count": 17,
   "metadata": {},
   "outputs": [],
   "source": [
    "\n",
    "list2=[func(i,list(list1)) for i in range(len(list1))]"
   ]
  },
  {
   "cell_type": "code",
   "execution_count": 18,
   "metadata": {},
   "outputs": [
    {
     "data": {
      "text/plain": [
       "[None, None, None, None]"
      ]
     },
     "execution_count": 18,
     "metadata": {},
     "output_type": "execute_result"
    }
   ],
   "source": [
    "list2"
   ]
  },
  {
   "cell_type": "code",
   "execution_count": null,
   "metadata": {},
   "outputs": [],
   "source": [
    "#lit=list(map(inp, input().split()[:N]))"
   ]
  }
 ],
 "metadata": {
  "kernelspec": {
   "display_name": "Python 3",
   "language": "python",
   "name": "python3"
  },
  "language_info": {
   "codemirror_mode": {
    "name": "ipython",
    "version": 3
   },
   "file_extension": ".py",
   "mimetype": "text/x-python",
   "name": "python",
   "nbconvert_exporter": "python",
   "pygments_lexer": "ipython3",
   "version": "3.7.6"
  }
 },
 "nbformat": 4,
 "nbformat_minor": 4
}
