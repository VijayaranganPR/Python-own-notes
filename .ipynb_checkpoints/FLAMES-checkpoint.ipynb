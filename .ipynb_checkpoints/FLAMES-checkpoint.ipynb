{
 "cells": [
  {
   "cell_type": "markdown",
   "id": "12d11f86",
   "metadata": {},
   "source": [
    "## FLAMES"
   ]
  },
  {
   "cell_type": "code",
   "execution_count": 19,
   "id": "341fe81f",
   "metadata": {
    "scrolled": true
   },
   "outputs": [
    {
     "name": "stdout",
     "output_type": "stream",
     "text": [
      "Enter the First Name: \n",
      "Enter the Second Name: \n",
      "F\n"
     ]
    }
   ],
   "source": [
    "name1 = list(input(\"Enter the First Name: \").lower())\n",
    "name2 = list(input(\"Enter the Second Name: \").lower())\n",
    "for i in name2:\n",
    "    if i in name1:\n",
    "        name1.remove(i)\n",
    "        name2.remove(i)\n",
    "\n",
    "        \n",
    "total = len(name1)+len(name2)\n",
    "flames = ['F','L','A','M','E','S']\n",
    "\n",
    "for length in range(6,1,-1):\n",
    "    if total%length == 0:\n",
    "        flames = flames[:-1]\n",
    "    else:\n",
    "        ind = total%length -1\n",
    "        flames = flames[ind+1:]+flames[:ind]\n",
    "#     print(flames)\n",
    "print(flames[0])"
   ]
  },
  {
   "cell_type": "code",
   "execution_count": null,
   "id": "633f1520",
   "metadata": {},
   "outputs": [],
   "source": []
  }
 ],
 "metadata": {
  "kernelspec": {
   "display_name": "Python 3",
   "language": "python",
   "name": "python3"
  },
  "language_info": {
   "codemirror_mode": {
    "name": "ipython",
    "version": 3
   },
   "file_extension": ".py",
   "mimetype": "text/x-python",
   "name": "python",
   "nbconvert_exporter": "python",
   "pygments_lexer": "ipython3",
   "version": "3.8.8"
  }
 },
 "nbformat": 4,
 "nbformat_minor": 5
}
