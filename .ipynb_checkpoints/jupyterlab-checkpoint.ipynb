{
 "cells": [
  {
   "cell_type": "code",
   "execution_count": 16,
   "metadata": {},
   "outputs": [
    {
     "name": "stdout",
     "output_type": "stream",
     "text": [
      "I am Vijayarangan and I am studying EIE\n"
     ]
    }
   ],
   "source": [
    "print('I am %s and I am studying %s'%('Vijayarangan','EIE'))"
   ]
  },
  {
   "cell_type": "code",
   "execution_count": 19,
   "metadata": {},
   "outputs": [
    {
     "name": "stdout",
     "output_type": "stream",
     "text": [
      "hi am vijay,the int is 3 and without int is 3.123,the presition number is    123.421 the text with quotation is 'hi'\n"
     ]
    }
   ],
   "source": [
    "print('hi %s vijay,the int is %d and without int is %s,the presition number is %10.3f the text with quotation is %r'%('am',3.123,'3.123',123.42144,'hi'))"
   ]
  },
  {
   "cell_type": "code",
   "execution_count": 42,
   "metadata": {},
   "outputs": [
    {
     "name": "stdout",
     "output_type": "stream",
     "text": [
      "Fruit    | Quantity \n",
      "Apples   |       3.0\n",
      "Oranges  |        10\n"
     ]
    }
   ],
   "source": [
    "print('{0:8} | {1:9}'.format('Fruit', 'Quantity'))\n",
    "print('{0:8} | {1:9}'.format('Apples', 3.))\n",
    "print('{0:8} | {1:9}'.format('Oranges', 10))"
   ]
  },
  {
   "cell_type": "code",
   "execution_count": 70,
   "metadata": {},
   "outputs": [
    {
     "name": "stdout",
     "output_type": "stream",
     "text": [
      "1........++++2++++........1\n"
     ]
    }
   ],
   "source": [
    "print(\"{k:.<9}{num:+^9}{ibe:.>9}\".format(num=2,k=1,ibe=1))"
   ]
  },
  {
   "cell_type": "code",
   "execution_count": 91,
   "metadata": {},
   "outputs": [
    {
     "name": "stdout",
     "output_type": "stream",
     "text": [
      "hi now i am going to change the number     10.12\n"
     ]
    }
   ],
   "source": [
    "print(f\"hi now i am going to change the number{10.12:10.5}\")\n"
   ]
  },
  {
   "cell_type": "code",
   "execution_count": 84,
   "metadata": {},
   "outputs": [
    {
     "name": "stdout",
     "output_type": "stream",
     "text": [
      "10.2\n"
     ]
    }
   ],
   "source": [
    "a=10.2\n",
    "print(f'{a!}')"
   ]
  },
  {
   "cell_type": "code",
   "execution_count": 92,
   "metadata": {},
   "outputs": [],
   "source": [
    "l=[1,2,3,4]"
   ]
  },
  {
   "cell_type": "code",
   "execution_count": 93,
   "metadata": {},
   "outputs": [
    {
     "data": {
      "text/plain": [
       "[1, 2, 3, 4, 6]"
      ]
     },
     "execution_count": 93,
     "metadata": {},
     "output_type": "execute_result"
    }
   ],
   "source": [
    "l+[6]"
   ]
  },
  {
   "cell_type": "code",
   "execution_count": 95,
   "metadata": {},
   "outputs": [],
   "source": [
    "l=l+[6]"
   ]
  },
  {
   "cell_type": "code",
   "execution_count": 96,
   "metadata": {},
   "outputs": [
    {
     "data": {
      "text/plain": [
       "[1, 2, 3, 4, 6]"
      ]
     },
     "execution_count": 96,
     "metadata": {},
     "output_type": "execute_result"
    }
   ],
   "source": [
    "l"
   ]
  },
  {
   "cell_type": "code",
   "execution_count": 103,
   "metadata": {},
   "outputs": [
    {
     "ename": "SyntaxError",
     "evalue": "invalid syntax (<ipython-input-103-bbcf08ec617f>, line 1)",
     "output_type": "error",
     "traceback": [
      "\u001b[1;36m  File \u001b[1;32m\"<ipython-input-103-bbcf08ec617f>\"\u001b[1;36m, line \u001b[1;32m1\u001b[0m\n\u001b[1;33m    l=[i for i in range(1,11) if (i%2==0) else i^2]\u001b[0m\n\u001b[1;37m                                             ^\u001b[0m\n\u001b[1;31mSyntaxError\u001b[0m\u001b[1;31m:\u001b[0m invalid syntax\n"
     ]
    }
   ],
   "source": [
    "l=[i for i in range(1,11) if (i%2==0) else i^2]"
   ]
  },
  {
   "cell_type": "code",
   "execution_count": 102,
   "metadata": {},
   "outputs": [
    {
     "data": {
      "text/plain": [
       "[2, 4, 6, 8, 10]"
      ]
     },
     "execution_count": 102,
     "metadata": {},
     "output_type": "execute_result"
    }
   ],
   "source": [
    "l"
   ]
  },
  {
   "cell_type": "code",
   "execution_count": 105,
   "metadata": {},
   "outputs": [],
   "source": [
    "d='hi'"
   ]
  },
  {
   "cell_type": "code",
   "execution_count": 106,
   "metadata": {},
   "outputs": [
    {
     "data": {
      "text/plain": [
       "'hi'"
      ]
     },
     "execution_count": 106,
     "metadata": {},
     "output_type": "execute_result"
    }
   ],
   "source": [
    "d"
   ]
  },
  {
   "cell_type": "code",
   "execution_count": 107,
   "metadata": {},
   "outputs": [
    {
     "name": "stdin",
     "output_type": "stream",
     "text": [
      "How many players : 5\n"
     ]
    }
   ],
   "source": [
    "players = int(input('How many players :'))\n"
   ]
  },
  {
   "cell_type": "code",
   "execution_count": 108,
   "metadata": {},
   "outputs": [
    {
     "name": "stdout",
     "output_type": "stream",
     "text": [
      "Loading....\r"
     ]
    }
   ],
   "source": [
    "import time\n",
    "for x in range (0,5):  \n",
    "    b = \"Loading\" + \".\" * x\n",
    "    print (b, end=\"\\r\")\n",
    "    time.sleep(1)"
   ]
  },
  {
   "cell_type": "code",
   "execution_count": 110,
   "metadata": {},
   "outputs": [
    {
     "name": "stdout",
     "output_type": "stream",
     "text": [
      "4\r"
     ]
    }
   ],
   "source": [
    "for i in range(5):\n",
    "    print(i,end='\\r')\n",
    "    time.sleep(1)"
   ]
  },
  {
   "cell_type": "code",
   "execution_count": 111,
   "metadata": {},
   "outputs": [],
   "source": [
    "s='vijjayaranganna'"
   ]
  },
  {
   "cell_type": "code",
   "execution_count": 112,
   "metadata": {},
   "outputs": [
    {
     "data": {
      "text/plain": [
       "'vijjayaran'"
      ]
     },
     "execution_count": 112,
     "metadata": {},
     "output_type": "execute_result"
    }
   ],
   "source": [
    "s[:10]"
   ]
  },
  {
   "cell_type": "code",
   "execution_count": 3,
   "metadata": {},
   "outputs": [
    {
     "name": "stdin",
     "output_type": "stream",
     "text": [
      " 4\n",
      " 12 34 56 78 9 0 3\n"
     ]
    }
   ],
   "source": [
    "N=int(input()) #take the size\n",
    "\n",
    "Array=list(map(int, input().split()[:N]))"
   ]
  },
  {
   "cell_type": "code",
   "execution_count": 4,
   "metadata": {},
   "outputs": [
    {
     "data": {
      "text/plain": [
       "[12, 34, 56, 78]"
      ]
     },
     "execution_count": 4,
     "metadata": {},
     "output_type": "execute_result"
    }
   ],
   "source": [
    "Array"
   ]
  },
  {
   "cell_type": "code",
   "execution_count": null,
   "metadata": {},
   "outputs": [],
   "source": [
    "import random\n",
    "n=int(input('Enter number of players : '))\n",
    "lit=[input(f'Enter player {i} name') for i in range(1,n+1)]\n",
    "dic={i:0 for i in lit}\n",
    "\n",
    "num=0\n",
    "k=num\n",
    "flag=True\n",
    "\n",
    "print(\"{0:.^100}\".format('lets start the game'))\n",
    "\n",
    "def game(player,num):\n",
    "    global k\n",
    "    \n",
    "    temp=random.randint(1,50)\n",
    "    print(player,\"'s turn\")\n",
    "    print(f\"What's the value if we add {temp} and {k} : \",end='')\n",
    "    player_num=int(input())\n",
    "    if temp+k==player_num:\n",
    "        k = temp+k\n",
    "        dic[player]+=1\n",
    "    else:\n",
    "        print(f'The entered value is incorrect, {player} lose the game')\n",
    "        lit.remove(player)\n",
    "        \n",
    "while(flag):\n",
    "    for i in lit:\n",
    "        game(i,num)\n",
    "    if len(lit)==1:\n",
    "        l=lit[0]\n",
    "        d[l]+=1\n",
    "        print(\"{0:*^100}\".format('lit[0] won the game'))\n",
    "        print(\"{0:.^100}\".format('SCORE BOARD'))\n",
    "        print(\"{0:.^49}|{1:.^50}\".format(\"PLAYER NAME\",\"SCORE\"))\n",
    "        for j in dic:\n",
    "            print(\"{0:.<49}|{1:.>50}\".format(j,dic[j]))\n",
    "        flag=False"
   ]
  },
  {
   "cell_type": "code",
   "execution_count": 33,
   "metadata": {},
   "outputs": [
    {
     "data": {
      "text/plain": [
       "9"
      ]
     },
     "execution_count": 33,
     "metadata": {},
     "output_type": "execute_result"
    }
   ],
   "source": [
    "random.randint(1,10)"
   ]
  },
  {
   "cell_type": "code",
   "execution_count": 45,
   "metadata": {},
   "outputs": [
    {
     "name": "stdout",
     "output_type": "stream",
     "text": [
      "abcdefgabcdefgabcdefgabcdefgabcdefgabcdefgabcdefgabcdefgabcdefg"
     ]
    }
   ],
   "source": [
    "for i in range(1,10):\n",
    "    for j in 'abcdefgh':\n",
    "        print(j,end='')\n",
    "        if j=='g':\n",
    "            \n",
    "            break\n",
    "            "
   ]
  },
  {
   "cell_type": "code",
   "execution_count": 52,
   "metadata": {},
   "outputs": [],
   "source": [
    "lit=[1,2,3,4,5]"
   ]
  },
  {
   "cell_type": "code",
   "execution_count": 53,
   "metadata": {},
   "outputs": [
    {
     "name": "stdout",
     "output_type": "stream",
     "text": [
      "1\n",
      "2\n",
      "3\n",
      "4\n",
      "5\n"
     ]
    }
   ],
   "source": [
    "for i in lit:\n",
    "    print(i)"
   ]
  },
  {
   "cell_type": "code",
   "execution_count": 55,
   "metadata": {},
   "outputs": [],
   "source": [
    "d={'a':1,'b':2,\"c\":3}"
   ]
  },
  {
   "cell_type": "code",
   "execution_count": 62,
   "metadata": {},
   "outputs": [
    {
     "name": "stdout",
     "output_type": "stream",
     "text": [
      "1 a\n",
      "2 b\n",
      "3 c\n"
     ]
    }
   ],
   "source": [
    "for i in d:\n",
    "    print(str(d[i]),i)"
   ]
  },
  {
   "cell_type": "code",
   "execution_count": null,
   "metadata": {},
   "outputs": [
    {
     "name": "stdin",
     "output_type": "stream",
     "text": [
      "Enter number of players :  3\n",
      "Enter player 1 name 1\n",
      "Enter player 2 name 2\n",
      "Enter player 3 name 3\n"
     ]
    },
    {
     "name": "stdout",
     "output_type": "stream",
     "text": [
      "........................................lets start the game.........................................\n",
      "1 's turn\n",
      "What's the value if we add 15 and 0 : "
     ]
    },
    {
     "name": "stdin",
     "output_type": "stream",
     "text": [
      " 15\n"
     ]
    },
    {
     "name": "stdout",
     "output_type": "stream",
     "text": [
      "2 's turn\n",
      "What's the value if we add 10 and 15 : "
     ]
    },
    {
     "name": "stdin",
     "output_type": "stream",
     "text": [
      " 4\n"
     ]
    },
    {
     "name": "stdout",
     "output_type": "stream",
     "text": [
      "The entered value is incorrect, 2 lose the game\n",
      "1 's turn\n",
      "What's the value if we add 3 and 15 : "
     ]
    }
   ],
   "source": [
    "import random\n",
    "n=int(input('Enter number of players : '))\n",
    "lit=[input(f'Enter player {i} name') for i in range(1,n+1)]\n",
    "dic={i:0 for i in lit}\n",
    "\n",
    "num=0\n",
    "flag=True\n",
    "\n",
    "print(\"{0:.^100}\".format('lets start the game'))\n",
    "\n",
    "def game(player):\n",
    "    global num\n",
    "    \n",
    "    temp=random.randint(1,50)\n",
    "    print(player,\"'s turn\")\n",
    "    print(f\"What's the value if we add {temp} and {num} : \",end='')\n",
    "    player_num=int(input())\n",
    "    if temp+num==player_num:\n",
    "        num = temp+num\n",
    "        dic[player]+=1\n",
    "    else:\n",
    "        print(f'The entered value is incorrect, {player} lose the game')\n",
    "        lit.remove(player)\n",
    "        \n",
    "while(flag):\n",
    "    for i in lit:\n",
    "        game(i)\n",
    "    if len(lit)==1:\n",
    "        dic[lit[0]]+=1\n",
    "        print(\"{0:*^100}\\n\".format( lit[0].upper()+' WON THE GAME'))\n",
    "        print(\"{0:*^100}\".format('SCORE BOARD'))\n",
    "        print(\"{0:*^49}|{1:*^50}\".format(\"PLAYER NAME\",\"SCORE\"))\n",
    "        for j in dic:\n",
    "            print(\"{0:.<49}|{1:.>50}\".format(j,dic[j]))\n",
    "        flag=False"
   ]
  },
  {
   "cell_type": "code",
   "execution_count": 20,
   "metadata": {},
   "outputs": [
    {
     "name": "stdout",
     "output_type": "stream",
     "text": [
      "*******************************************V WON THE GAME*******************************************\n",
      "\n",
      "********************************************SCORE BOARD*********************************************\n",
      "*******************PLAYER NAME*******************|**********************SCORE***********************\n"
     ]
    }
   ],
   "source": [
    "print(\"{0:*^100}\\n\".format( lit[0].upper()+' WON THE GAME'))\n",
    "print(\"{0:*^100}\".format('SCORE BOARD'))\n",
    "print(\"{0:*^49}|{1:*^50}\".format(\"PLAYER NAME\",\"SCORE\"))"
   ]
  },
  {
   "cell_type": "code",
   "execution_count": 1,
   "metadata": {},
   "outputs": [
    {
     "name": "stdout",
     "output_type": "stream",
     "text": [
      "abcd\n",
      "\n",
      "abcefgabcefgabcefgabcefgabcefgabcefgabcefgabcefg"
     ]
    }
   ],
   "source": [
    "s=['a','b','c','d','e','f','g']\n",
    "for i in range(1,10):\n",
    "    for j in s:\n",
    "        print(j,end='')\n",
    "        if j=='d':\n",
    "            s.remove(j)\n",
    "            print('\\n')\n",
    "            break"
   ]
  },
  {
   "cell_type": "code",
   "execution_count": null,
   "metadata": {},
   "outputs": [],
   "source": []
  }
 ],
 "metadata": {
  "kernelspec": {
   "display_name": "Python 3",
   "language": "python",
   "name": "python3"
  },
  "language_info": {
   "codemirror_mode": {
    "name": "ipython",
    "version": 3
   },
   "file_extension": ".py",
   "mimetype": "text/x-python",
   "name": "python",
   "nbconvert_exporter": "python",
   "pygments_lexer": "ipython3",
   "version": "3.7.6"
  }
 },
 "nbformat": 4,
 "nbformat_minor": 4
}
