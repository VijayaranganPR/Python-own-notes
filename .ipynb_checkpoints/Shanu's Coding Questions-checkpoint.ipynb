{
 "cells": [
  {
   "cell_type": "markdown",
   "id": "fa448ce3",
   "metadata": {},
   "source": [
    "1) \n",
    "* 1\n",
    "* 25\n",
    "* 368\n",
    "* 47910"
   ]
  },
  {
   "cell_type": "code",
   "execution_count": 9,
   "id": "9160b2e2",
   "metadata": {},
   "outputs": [
    {
     "name": "stdout",
     "output_type": "stream",
     "text": [
      "1\n",
      "211\n",
      "31220\n",
      "4132128\n",
      "514222935\n",
      "61523303641\n",
      "7162431374246\n",
      "817253238434750\n",
      "91826333944485153\n",
      "10192734404549525455\n"
     ]
    }
   ],
   "source": [
    "n = int(input())\n",
    "c = 1\n",
    "for row in range(n):\n",
    "    temp = c\n",
    "    inc = 1\n",
    "    for col in range(c):\n",
    "        print(temp,end= \"\")\n",
    "        temp += n -inc\n",
    "        inc+=1\n",
    "    print()\n",
    "    c +=1"
   ]
  },
  {
   "cell_type": "markdown",
   "id": "fc414e95",
   "metadata": {},
   "source": [
    "2)\n",
    "* ***7\n",
    "* **48\n",
    "* *259\n",
    "* 13610"
   ]
  },
  {
   "cell_type": "code",
   "execution_count": 26,
   "id": "abccd49d",
   "metadata": {},
   "outputs": [
    {
     "name": "stdout",
     "output_type": "stream",
     "text": [
      "4\n",
      "***7\n",
      "**48\n",
      "*259\n",
      "13610\n"
     ]
    }
   ],
   "source": [
    "n = int(input())\n",
    "temp = 1\n",
    "first = 1\n",
    "c = n\n",
    "mat = []\n",
    "for row in range(n):\n",
    "    first += row \n",
    "    temp = first\n",
    "    inc = row+2\n",
    "    line = []\n",
    "    for col in range(inc,c+inc):\n",
    "        line.append(temp)\n",
    "        temp += col\n",
    "    inc+=1\n",
    "    c -=1\n",
    "    mat.append(line)\n",
    "mat = mat[::-1]\n",
    "for ind,ele in enumerate(mat):\n",
    "    ele = list(map(str,ele))\n",
    "    string = \"\".join(ele)\n",
    "    print(\"*\"*(n-ind-1)+string)"
   ]
  },
  {
   "cell_type": "markdown",
   "id": "ac7d47c2",
   "metadata": {},
   "source": [
    "3)\n",
    "* 12345\n",
    "* 161718196\n",
    "* 152425207\n",
    "* 142322218\n",
    "* 131211109"
   ]
  },
  {
   "cell_type": "code",
   "execution_count": 21,
   "id": "0b587aa3",
   "metadata": {},
   "outputs": [
    {
     "name": "stdout",
     "output_type": "stream",
     "text": [
      "5\n",
      "1 2 3 4 5\n",
      "16 17 18 19 6\n",
      "15 24 25 20 7\n",
      "14 23 22 21 8\n",
      "13 12 11 10 9\n"
     ]
    }
   ],
   "source": [
    "# chakravyuha\n",
    "def fun(row,col,n,which):\n",
    "    which = which%4\n",
    "    \n",
    "    while(True):\n",
    "        n+=1\n",
    "        if which == 0:\n",
    "            col += 1\n",
    "        elif which == 1:\n",
    "            row += 1\n",
    "        elif which == 2:\n",
    "            col -= 1\n",
    "        elif which == 3:\n",
    "            row -= 1\n",
    "        \n",
    "        try:\n",
    "            if mat[row][col] != 0:\n",
    "                break\n",
    "            mat[row][col] = n\n",
    "        except:\n",
    "            break\n",
    "        \n",
    "    if which == 0:\n",
    "        return row,col-1,n-1,which+1\n",
    "    elif which == 1:\n",
    "        return row-1,col,n-1,which+1\n",
    "    elif which == 2:\n",
    "        return row,col+1,n-1,which+1\n",
    "    elif which == 3:\n",
    "        return row+1,col,n-1,which+1\n",
    "num = int(input())\n",
    "mat = [[0 for i in range(num)] for j in range(num)]\n",
    "mat[0][0] = 1\n",
    "\n",
    "row,col,n,which = fun(0,0,1,0)\n",
    "while(n != num*num):\n",
    "    row,col,n,which = fun(row,col,n,which)\n",
    "#     print(mat)\n",
    "for i in mat:\n",
    "    print(*i)"
   ]
  },
  {
   "cell_type": "code",
   "execution_count": null,
   "id": "17d4cd75",
   "metadata": {},
   "outputs": [],
   "source": []
  }
 ],
 "metadata": {
  "kernelspec": {
   "display_name": "Python 3",
   "language": "python",
   "name": "python3"
  },
  "language_info": {
   "codemirror_mode": {
    "name": "ipython",
    "version": 3
   },
   "file_extension": ".py",
   "mimetype": "text/x-python",
   "name": "python",
   "nbconvert_exporter": "python",
   "pygments_lexer": "ipython3",
   "version": "3.8.8"
  }
 },
 "nbformat": 4,
 "nbformat_minor": 5
}
