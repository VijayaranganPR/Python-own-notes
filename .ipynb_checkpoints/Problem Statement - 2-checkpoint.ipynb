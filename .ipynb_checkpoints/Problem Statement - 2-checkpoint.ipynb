{
 "cells": [
  {
   "cell_type": "markdown",
   "metadata": {},
   "source": [
    "# Python program that identifies the last Thursday of the month"
   ]
  },
  {
   "cell_type": "code",
   "execution_count": 1,
   "metadata": {},
   "outputs": [],
   "source": [
    "import datetime,calendar       #importing datatime and calendar library\n",
    "\n",
    "#Finding the last Thursday of the month \n",
    "def check(mon,year):             \n",
    "    lastthus = 0\n",
    "    \n",
    "    for day in calendar.Calendar().itermonthdays2(year, mon): \n",
    "        \n",
    "        #calendar library show 0 for previous month week days we need to remove those\n",
    "        if day[0]==0:\n",
    "            continue\n",
    "            \n",
    "        #shortlisting Thursday\n",
    "        if day[1] == 3:\n",
    "            lastthus = day[0]\n",
    "    return lastthus"
   ]
  },
  {
   "cell_type": "code",
   "execution_count": 2,
   "metadata": {},
   "outputs": [],
   "source": [
    "#Checking weather the given date is a last thursday in that month\n",
    "def isLastThursday(input_date):\n",
    "    year = datetime.datetime.strptime(input_date, '%Y-%m-%d').date().year    #to get the year\n",
    "    Month = datetime.datetime.strptime(input_date, '%Y-%m-%d').date().month     #to get month\n",
    "    day = datetime.datetime.strptime(input_date, '%Y-%m-%d').date().day       #to get day\n",
    "    \n",
    "    #Finding the last Thursday\n",
    "    lt = check(Month,year)   \n",
    "    \n",
    "    #comparing the correct date and the given date\n",
    "    if lt == day:\n",
    "        return True\n",
    "    else:\n",
    "        return False"
   ]
  },
  {
   "cell_type": "code",
   "execution_count": 3,
   "metadata": {},
   "outputs": [],
   "source": [
    "#To find the last Thursday of the month \n",
    "def getLastThursday(input_month,year = \"2020\"):\n",
    "    year = datetime.datetime.strptime(year, '%Y').date().year      #to get the year\n",
    "    Month = datetime.datetime.strptime(input_month, '%m').date().month     #to get month\n",
    "    \n",
    "    #Finding the last Thursday\n",
    "    lt = check(Month,year)\n",
    "    return(f\"Thursday - {lt}/{input_month}/{year}\")"
   ]
  },
  {
   "cell_type": "markdown",
   "metadata": {},
   "source": [
    "## Here I am using default input not user inputs because this will be more convenient way to explain the code"
   ]
  },
  {
   "cell_type": "code",
   "execution_count": 4,
   "metadata": {
    "scrolled": false
   },
   "outputs": [
    {
     "name": "stdout",
     "output_type": "stream",
     "text": [
      "Thursday - 30/1/2020\n"
     ]
    }
   ],
   "source": [
    "print(getLastThursday(\"1\")) #parameter (month,year)"
   ]
  },
  {
   "cell_type": "code",
   "execution_count": 5,
   "metadata": {},
   "outputs": [
    {
     "name": "stdout",
     "output_type": "stream",
     "text": [
      "Thursday - 28/1/2021\n"
     ]
    }
   ],
   "source": [
    "print(getLastThursday(\"1\",\"2021\"))"
   ]
  },
  {
   "cell_type": "code",
   "execution_count": 6,
   "metadata": {},
   "outputs": [
    {
     "name": "stdout",
     "output_type": "stream",
     "text": [
      "True\n"
     ]
    }
   ],
   "source": [
    "print(isLastThursday(\"2021-01-28\"))   #parameter syntax (yyyy-mm-dd)"
   ]
  },
  {
   "cell_type": "markdown",
   "metadata": {},
   "source": [
    "# Here I am giveing the whole code"
   ]
  },
  {
   "cell_type": "code",
   "execution_count": 7,
   "metadata": {},
   "outputs": [
    {
     "name": "stdout",
     "output_type": "stream",
     "text": [
      "Thursday - 30/1/2020\n",
      "Thursday - 28/1/2021\n",
      "True\n"
     ]
    }
   ],
   "source": [
    "#Here I am using datetime library only for finding the year, month, and day from the given string \n",
    "#We can also do this without using them by using split() instead of datetime\n",
    "\n",
    "import datetime,calendar       #importing datatime and calendar library\n",
    "\n",
    "#Finding the last thursday of the month \n",
    "def check(mon,year):             \n",
    "    lastthus = 0\n",
    "    \n",
    "    for day in calendar.Calendar().itermonthdays2(year, mon): \n",
    "        \n",
    "        #calendar library show 0 for previous month week days we need to remove those\n",
    "        if day[0]==0:\n",
    "            continue\n",
    "            \n",
    "        #shortlisting Thursday\n",
    "        if day[1] == 3:\n",
    "            lastthus = day[0]\n",
    "    return lastthus\n",
    "\n",
    "#Checking weather the given date is a last thursday in that month\n",
    "def isLastThursday(input_date):\n",
    "    year = datetime.datetime.strptime(input_date, '%Y-%m-%d').date().year    #to get the year\n",
    "    Month = datetime.datetime.strptime(input_date, '%Y-%m-%d').date().month     #to get month\n",
    "    day = datetime.datetime.strptime(input_date, '%Y-%m-%d').date().day       #to get day\n",
    "    \n",
    "    #Finding the last Thursday\n",
    "    lt = check(Month,year)   \n",
    "    \n",
    "    #comparing the correct date and the given date\n",
    "    if lt == day:\n",
    "        return True\n",
    "    else:\n",
    "        return False\n",
    "    \n",
    "#To find the last Thursday of the month \n",
    "def getLastThursday(input_month,year = \"2020\"):\n",
    "    year = datetime.datetime.strptime(year, '%Y').date().year      #to get the year\n",
    "    Month = datetime.datetime.strptime(input_month, '%m').date().month     #to get month\n",
    "    \n",
    "    #Finding the last Thursday\n",
    "    lt = check(Month,year)\n",
    "    \n",
    "    #returning the last date in string format\n",
    "    return(f\"Thursday - {lt}/{input_month}/{year}\")\n",
    "\n",
    "#Here I am using default inputs for better understanding of code we can also do this by getting using inputs\n",
    "print(getLastThursday(\"1\")) #parameter (month,year)\n",
    "print(getLastThursday(\"1\",\"2021\"))\n",
    "print(isLastThursday(\"2021-01-28\"))   #parameter syntax (yyyy-mm-dd)"
   ]
  }
 ],
 "metadata": {
  "kernelspec": {
   "display_name": "Python 3 (ipykernel)",
   "language": "python",
   "name": "python3"
  },
  "language_info": {
   "codemirror_mode": {
    "name": "ipython",
    "version": 3
   },
   "file_extension": ".py",
   "mimetype": "text/x-python",
   "name": "python",
   "nbconvert_exporter": "python",
   "pygments_lexer": "ipython3",
   "version": "3.9.7"
  }
 },
 "nbformat": 4,
 "nbformat_minor": 4
}
